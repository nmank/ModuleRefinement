{
 "cells": [
  {
   "cell_type": "code",
   "execution_count": 6,
   "metadata": {},
   "outputs": [],
   "source": [
    "\n",
    "import pandas as pd\n",
    "import numpy as np\n",
    "\n",
    "from orthrus.core import helper\n",
    "\n",
    "import os\n",
    "\n",
    "import pickle\n",
    "\n",
    "import PyWGCNA\n",
    "\n",
    "from sklearn.model_selection import StratifiedKFold\n",
    "\n"
   ]
  },
  {
   "cell_type": "code",
   "execution_count": 9,
   "metadata": {},
   "outputs": [],
   "source": [
    "\n",
    "def separate_classes(data_all, labels_all):\n",
    "    unique_labels = np.unique(labels_all['label'])\n",
    "\n",
    "    class_data = []\n",
    "    for label in unique_labels:\n",
    "        idx = labels_all['label'] == label\n",
    "        label_ids = labels_all[idx].index\n",
    "\n",
    "        class_data.append(data_all.loc[label_ids])\n",
    "\n",
    "    return class_data, unique_labels\n",
    "\n",
    "def load_data(file_name):\n",
    "    data_all = pd.read_csv(file_name, index_col = 0)\n",
    "    labels_all = pd.read_csv(f'{file_name[:-4]}_labels.csv', index_col = 0)\n",
    "\n",
    "    class_data, unique_labels = separate_classes(data_all, labels_all)\n",
    "\n",
    "    return class_data, unique_labels, data_all, labels_all\n",
    "\n",
    "def wgcna_modules(split_data, species, save_path):\n",
    "    split_data.to_csv('temp.csv')\n",
    "\n",
    "    geneExp = 'temp.csv'\n",
    "    pyWGCNA_Z75 = PyWGCNA.WGCNA(name='Z75', species=species, geneExpPath=geneExp, save=True)\n",
    "\n",
    "    pyWGCNA_Z75.preprocess()\n",
    "\n",
    "    pyWGCNA_Z75.findModules()\n",
    "\n",
    "    # the_modules = pd.DataFrame(pyWGCNA_Z75.datExpr.var['moduleLabels'])\n",
    "\n",
    "    # the_modules.to_csv(f'modules_fold{fold_number}.csv')\n",
    "\n",
    "    the_modules = pd.DataFrame(columns = ['Feature Set'])\n",
    "    for lbl in np.unique(pyWGCNA_Z75.datExpr.var['moduleLabels']):\n",
    "        idx = pyWGCNA_Z75.datExpr.var['moduleLabels'] == lbl\n",
    "        genes_in_module = list(pyWGCNA_Z75.datExpr.var['moduleLabels'][idx].index)\n",
    "        row = pd.DataFrame(columns = ['Feature Set'], data = [[genes_in_module]])\n",
    "        the_modules = the_modules.append(row, ignore_index = True)\n",
    "\n",
    "    helper.save_object(the_modules, save_path, overwrite=False)\n",
    "\n"
   ]
  },
  {
   "cell_type": "code",
   "execution_count": 10,
   "metadata": {},
   "outputs": [
    {
     "name": "stdout",
     "output_type": "stream",
     "text": [
      "------------------------\n",
      "computing gse73072_hrv_48_64 modules\n"
     ]
    },
    {
     "ename": "TypeError",
     "evalue": "to_csv() got an unexpected keyword argument 'index_col'",
     "output_type": "error",
     "traceback": [
      "\u001b[0;31m---------------------------------------------------------------------------\u001b[0m",
      "\u001b[0;31mTypeError\u001b[0m                                 Traceback (most recent call last)",
      "\u001b[0;32m/tmp/ipykernel_24534/2487405903.py\u001b[0m in \u001b[0;36m<module>\u001b[0;34m\u001b[0m\n\u001b[1;32m     15\u001b[0m \u001b[0;34m\u001b[0m\u001b[0m\n\u001b[1;32m     16\u001b[0m         \u001b[0mout_file\u001b[0m \u001b[0;34m=\u001b[0m \u001b[0;34mf'./modules/all/{file_name}'\u001b[0m\u001b[0;34m\u001b[0m\u001b[0;34m\u001b[0m\u001b[0m\n\u001b[0;32m---> 17\u001b[0;31m         \u001b[0mwgcna_modules\u001b[0m\u001b[0;34m(\u001b[0m\u001b[0mdata_all\u001b[0m\u001b[0;34m,\u001b[0m \u001b[0mspecies\u001b[0m\u001b[0;34m,\u001b[0m \u001b[0mout_file\u001b[0m\u001b[0;34m)\u001b[0m\u001b[0;34m\u001b[0m\u001b[0;34m\u001b[0m\u001b[0m\n\u001b[0m\u001b[1;32m     18\u001b[0m \u001b[0;34m\u001b[0m\u001b[0m\n\u001b[1;32m     19\u001b[0m         \u001b[0;32mfor\u001b[0m \u001b[0mdta\u001b[0m\u001b[0;34m,\u001b[0m \u001b[0mlbl\u001b[0m \u001b[0;32min\u001b[0m \u001b[0mzip\u001b[0m\u001b[0;34m(\u001b[0m\u001b[0mclass_data\u001b[0m\u001b[0;34m,\u001b[0m \u001b[0munique_labels\u001b[0m\u001b[0;34m)\u001b[0m\u001b[0;34m:\u001b[0m\u001b[0;34m\u001b[0m\u001b[0;34m\u001b[0m\u001b[0m\n",
      "\u001b[0;32m/tmp/ipykernel_24534/985708982.py\u001b[0m in \u001b[0;36mwgcna_modules\u001b[0;34m(split_data, species, save_path)\u001b[0m\n\u001b[1;32m     20\u001b[0m \u001b[0;34m\u001b[0m\u001b[0m\n\u001b[1;32m     21\u001b[0m \u001b[0;32mdef\u001b[0m \u001b[0mwgcna_modules\u001b[0m\u001b[0;34m(\u001b[0m\u001b[0msplit_data\u001b[0m\u001b[0;34m,\u001b[0m \u001b[0mspecies\u001b[0m\u001b[0;34m,\u001b[0m \u001b[0msave_path\u001b[0m\u001b[0;34m)\u001b[0m\u001b[0;34m:\u001b[0m\u001b[0;34m\u001b[0m\u001b[0;34m\u001b[0m\u001b[0m\n\u001b[0;32m---> 22\u001b[0;31m     \u001b[0msplit_data\u001b[0m\u001b[0;34m.\u001b[0m\u001b[0mto_csv\u001b[0m\u001b[0;34m(\u001b[0m\u001b[0;34m'temp.csv'\u001b[0m\u001b[0;34m,\u001b[0m \u001b[0mindex_col\u001b[0m \u001b[0;34m=\u001b[0m \u001b[0;36m0\u001b[0m\u001b[0;34m)\u001b[0m\u001b[0;34m\u001b[0m\u001b[0;34m\u001b[0m\u001b[0m\n\u001b[0m\u001b[1;32m     23\u001b[0m \u001b[0;34m\u001b[0m\u001b[0m\n\u001b[1;32m     24\u001b[0m     \u001b[0mgeneExp\u001b[0m \u001b[0;34m=\u001b[0m \u001b[0;34m'temp.csv'\u001b[0m\u001b[0;34m\u001b[0m\u001b[0;34m\u001b[0m\u001b[0m\n",
      "\u001b[0;31mTypeError\u001b[0m: to_csv() got an unexpected keyword argument 'index_col'"
     ]
    }
   ],
   "source": [
    "\n",
    "\n",
    "\n",
    "data_dir = './data/'\n",
    "for file_name in os.listdir(data_dir):\n",
    "\n",
    "    if 'label' not in file_name:\n",
    "\n",
    "        print('------------------------')\n",
    "        print(f'computing {file_name[:-4]} modules')\n",
    "\n",
    "        if 'gse' in file_name:\n",
    "            species = 'human'\n",
    "        else:\n",
    "            species = 'mouse'\n",
    "\n",
    "        class_data, unique_labels, data_all, labels_all = load_data(data_dir +file_name)\n",
    "\n",
    "        out_file = f'./modules/all/{file_name}'\n",
    "        wgcna_modules(data_all, species, out_file)\n",
    "\n",
    "        for dta, lbl in zip(class_data, unique_labels):\n",
    "            out_file = f'./modules/all/{file_name[:-4]}_{lbl}.csv'\n",
    "            wgcna_modules(dta, species, out_file)\n",
    "\n",
    "        print(f'computing 5 fold modules...')\n",
    "\n",
    "        skf = StratifiedKFold(n_splits=5, shuffle=True, random_state=0)\n",
    "        skf.get_n_splits(data_all, labels_all)\n",
    "\n",
    "        fold_number = 0\n",
    "        for train_index, test_index in skf.split(data_all, labels_all):\n",
    "            split_data = data_all.iloc[train_index]\n",
    "            split_labels = labels_all.iloc[train_index]\n",
    "\n",
    "            out_file = f'./modules/5fold/fold{fold_number}_{file_name}'\n",
    "            wgcna_modules(split_data, species, out_file)\n",
    "\n",
    "            class_data, unique_labels = separate_classes(split_data, labels_all)\n",
    "\n",
    "            for dta, lbl in zip(class_data, unique_labels):\n",
    "                out_file = f'./modules/5fold/fold{fold_number}_{file_name[:-4]}_{lbl}.csv'\n",
    "                wgcna_modules(dta, species, out_file)\n",
    "\n",
    "            fold_number += 1\n",
    "\n"
   ]
  },
  {
   "cell_type": "code",
   "execution_count": null,
   "metadata": {},
   "outputs": [],
   "source": []
  }
 ],
 "metadata": {
  "kernelspec": {
   "display_name": "Python 3.8.8 ('base': conda)",
   "language": "python",
   "name": "python3"
  },
  "language_info": {
   "codemirror_mode": {
    "name": "ipython",
    "version": 3
   },
   "file_extension": ".py",
   "mimetype": "text/x-python",
   "name": "python",
   "nbconvert_exporter": "python",
   "pygments_lexer": "ipython3",
   "version": "3.8.8"
  },
  "orig_nbformat": 4,
  "vscode": {
   "interpreter": {
    "hash": "9a16b7d45e15add018271b8879906ed388208b17729257166cad5f2212e101aa"
   }
  }
 },
 "nbformat": 4,
 "nbformat_minor": 2
}
