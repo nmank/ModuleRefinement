{
 "cells": [
  {
   "attachments": {},
   "cell_type": "markdown",
   "metadata": {},
   "source": [
    "# Module Refinement Example"
   ]
  },
  {
   "cell_type": "code",
   "execution_count": null,
   "metadata": {},
   "outputs": [],
   "source": [
    "# Load necessary packages\n",
    "import numpy as np\n",
    "import pandas as pd\n",
    "from ModuleRefinement import utils, ModuleLBG, center_algorithms\n",
    "import plotly.express as px\n",
    "\n",
    "from sklearn.model_selection import StratifiedKFold\n",
    "\n",
    "from orthrus.core.dataset import DataSet as DS\n",
    "\n",
    "from IPython.utils import io"
   ]
  },
  {
   "attachments": {},
   "cell_type": "markdown",
   "metadata": {},
   "source": []
  },
  {
   "cell_type": "code",
   "execution_count": null,
   "metadata": {},
   "outputs": [],
   "source": [
    "#Initialize variables\n",
    "species = 'mouse'\n",
    "dataset_name = 'salmonella_Liver'\n",
    "fold = 1\n",
    "\n",
    "out_file = f'modules/5fold/fold{fold}_{dataset_name}.pickle'\n",
    "\n",
    "module_file = f'./{out_file}'\n",
    "refined_modules_dir = f'./refined_modules/'\n",
    "\n",
    "  \n",
    "center_methods = [['flag_mean',1,1]]\n",
    "\n",
    "center_method = center_methods[0][0]\n",
    "data_dimension = center_methods[0][1]\n",
    "center_dimension = center_methods[0][2]\n",
    "\n",
    "module_paths = [module_file,\n",
    "                './refined_modules/flag_mean_1_1/5fold/fold1_salmonella_Liver.pickle']\n",
    "algorithms = ['WGCNA', 'LBG']\n",
    "organism = 'mmusculus'"
   ]
  },
  {
   "attachments": {},
   "cell_type": "markdown",
   "metadata": {},
   "source": []
  },
  {
   "cell_type": "code",
   "execution_count": null,
   "metadata": {},
   "outputs": [],
   "source": [
    "# Load data\n",
    "data_path = f'../data/{dataset_name}.csv'\n",
    "\n",
    "class_data, unique_labels, data_all, labels_all = utils.load_data(data_path)"
   ]
  },
  {
   "attachments": {},
   "cell_type": "markdown",
   "metadata": {},
   "source": [
    "## Compute WGCNA Modules \n",
    "\n",
    "*Takes approximately 10 minutes*"
   ]
  },
  {
   "cell_type": "code",
   "execution_count": null,
   "metadata": {},
   "outputs": [],
   "source": [
    " #keep random state at 0 for reproducible results\n",
    "skf = StratifiedKFold(n_splits=5, shuffle=True, random_state=0)\n",
    "skf.get_n_splits(data_all, labels_all)\n",
    "fold_number = 0 \n",
    "for train_index, test_index in skf.split(data_all, labels_all):\n",
    "    if fold_number == fold:\n",
    "        split_data = data_all.iloc[train_index]\n",
    "        split_labels = labels_all.iloc[train_index]\n",
    "\n",
    "        with io.capture_output() as captured:\n",
    "            r_value = utils.wgcna_modules(split_data, species, out_file)\n",
    "\n",
    "        print(f'MODULES COMPUTED! R value = {r_value}')\n",
    "    fold_number +=1"
   ]
  },
  {
   "attachments": {},
   "cell_type": "markdown",
   "metadata": {},
   "source": [
    "## Compute the Refined Modules"
   ]
  },
  {
   "cell_type": "code",
   "execution_count": null,
   "metadata": {},
   "outputs": [],
   "source": [
    "utils.refined_modules(split_data, module_file, center_methods, refined_modules_dir)"
   ]
  },
  {
   "attachments": {},
   "cell_type": "markdown",
   "metadata": {},
   "source": [
    "## Compute GO Significance\n",
    "These get stored in `go_results`."
   ]
  },
  {
   "cell_type": "code",
   "execution_count": null,
   "metadata": {},
   "outputs": [],
   "source": [
    "go_results = pd.DataFrame(columns = \n",
    "                                    ['Data Set', 'Algorithm', 'Central Prototype', \n",
    "                                    'Data Dimension', 'Center Dimension', 'Fold', \n",
    "                                    'Module Number', 'GO Significance'])\n",
    "\n",
    "\n",
    "for module_path, algorithm in zip(module_paths, algorithms):\n",
    "    \n",
    "    print(f'GO for {algorithm} modules')\n",
    "\n",
    "    the_modules, all_features = utils.load_modules(module_path)\n",
    "    module_number = 0\n",
    "    for module in the_modules.iterrows():\n",
    "        module_genes = module[1].item()   \n",
    "                        \n",
    "        mod_sig = utils.module_significance(module_genes, organism)\n",
    "\n",
    "        if algorithm == 'WGCNA':\n",
    "            row = pd.DataFrame(columns = list(go_results.columns),\n",
    "                    data = [[dataset_name, algorithm, '',\n",
    "                                '', '', fold,\n",
    "                                module_number, mod_sig]])\n",
    "        else:\n",
    "            row = pd.DataFrame(columns = list(go_results.columns),\n",
    "                    data = [[dataset_name, algorithm, center_method,\n",
    "                                data_dimension, center_dimension, fold,\n",
    "                                module_number, mod_sig]])            \n",
    "\n",
    "\n",
    "        go_results = pd.concat([go_results, row])\n",
    "        \n",
    "        module_number +=1\n",
    "\n",
    "go_results.head()"
   ]
  },
  {
   "attachments": {},
   "cell_type": "markdown",
   "metadata": {},
   "source": [
    "Compute the relative gain in GO significance.\n",
    "Store in go_better."
   ]
  },
  {
   "cell_type": "code",
   "execution_count": null,
   "metadata": {},
   "outputs": [],
   "source": [
    "go_better = pd.DataFrame(columns = ['Relative Gain', 'Fold', 'Prototype', 'Data Dimension', 'Center Dimension', 'Data Set'])\n",
    "\n",
    "wgcna_query = (go_results[\"Algorithm\"] == 'WGCNA') &\\\n",
    "              (go_results[\"Fold\"] == fold) &\\\n",
    "              (go_results[\"Data Set\"] == dataset_name)\n",
    "if np.sum(wgcna_query) > 0:\n",
    "    wgcna_total = go_results[wgcna_query][\"GO Significance\"].sum()\n",
    "    eg_query = (go_results[\"Algorithm\"] == 'LBG') &\\\n",
    "            (go_results[\"Central Prototype\"] == center_method) &\\\n",
    "            (go_results[\"Data Dimension\"] == data_dimension) &\\\n",
    "            (go_results[\"Center Dimension\"] == center_dimension) &\\\n",
    "            (go_results[\"Fold\"] == fold) &\\\n",
    "            (go_results[\"Data Set\"] == dataset_name)                           \n",
    "    eigengene_total = go_results[eg_query][\"GO Significance\"].sum()\n",
    "    if np.sum(eg_query) > 0:\n",
    "        relative_gain = (eigengene_total/(wgcna_total+.0001))-1\n",
    "        row = pd.DataFrame(columns = go_better.columns,\n",
    "                        data = [[relative_gain, fold, center_method, data_dimension, center_dimension, dataset_name]])\n",
    "        go_better = go_better.append(row, ignore_index = True)\n"
   ]
  },
  {
   "attachments": {},
   "cell_type": "markdown",
   "metadata": {},
   "source": [
    "Compute SVM BSR for each module. \n",
    "Store in svm_results."
   ]
  },
  {
   "cell_type": "code",
   "execution_count": null,
   "metadata": {},
   "outputs": [],
   "source": [
    "ds = DS(data = data_all, metadata = labels_all)\n",
    "\n",
    "svm_results = pd.DataFrame(columns = \n",
    "                                ['Data Set', 'Algorithm', 'Central Prototype', \n",
    "                                'Data Dimension', 'Center Dimension', 'Fold', \n",
    "                                'Module Number', 'BSR', 'Size'])\n",
    "\n",
    "for module_path, algorithm in zip(module_paths, algorithms):\n",
    "    \n",
    "    print(f'SVM for {algorithm} modules')\n",
    "\n",
    "    the_modules, all_features = utils.load_modules(module_path)\n",
    "\n",
    "    module_number = 0\n",
    "    for module in the_modules.iterrows():\n",
    "        mod_sig = 0\n",
    "        module_genes = module[1].item()   \n",
    "\n",
    "        module_size = len(list(module_genes))\n",
    "\n",
    "        slice_dataset = ds.slice_dataset(feature_ids=np.array(module_genes))\n",
    "\n",
    "        try:\n",
    "            bsr = utils.loso_test(slice_dataset, fold)\n",
    "        except ValueError:\n",
    "            bsr = np.nan   \n",
    "\n",
    "        if algorithm == 'WGCNA':\n",
    "            row = pd.DataFrame(columns = list(svm_results.columns),\n",
    "                        data = [[dataset_name, algorithm, np.nan,\n",
    "                                    np.nan, np.nan, fold,\n",
    "                                    module_number, bsr, module_size]])\n",
    "        else:\n",
    "\n",
    "            row = pd.DataFrame(columns = list(svm_results.columns),\n",
    "                        data = [[dataset_name, algorithm, center_method,\n",
    "                                    data_dimension, center_dimension, fold,\n",
    "                                    module_number, bsr, module_size]])\n",
    "\n",
    "        svm_results = svm_results.append(row, ignore_index = True)\n",
    "\n",
    "        module_number +=1\n",
    "\n",
    "svm_results.head()"
   ]
  },
  {
   "attachments": {},
   "cell_type": "markdown",
   "metadata": {},
   "source": [
    "Compute the relative gain in BSR.\n",
    "Store in svm_better."
   ]
  },
  {
   "cell_type": "code",
   "execution_count": null,
   "metadata": {},
   "outputs": [],
   "source": [
    "svm_better = pd.DataFrame(columns = ['Relative Gain', 'Fold', 'Prototype', 'Data Dimension', 'Center Dimension', 'Data Set'])\n",
    "\n",
    "wgcna_query = (svm_results[\"Algorithm\"] == 'WGCNA') &\\\n",
    "              (svm_results[\"Fold\"] == fold) &\\\n",
    "              (svm_results[\"Data Set\"] == dataset_name)\n",
    "if np.sum(wgcna_query) > 0:\n",
    "    wgcna_total = svm_results[wgcna_query][\"BSR\"].sum()\n",
    "    eg_query = (svm_results[\"Algorithm\"] == 'LBG') &\\\n",
    "            (svm_results[\"Central Prototype\"] == center_method) &\\\n",
    "            (svm_results[\"Data Dimension\"] == data_dimension) &\\\n",
    "            (svm_results[\"Center Dimension\"] == center_dimension) &\\\n",
    "            (svm_results[\"Fold\"] == fold) &\\\n",
    "            (svm_results[\"Data Set\"] == dataset_name)                           \n",
    "    eigengene_total = svm_results[eg_query][\"BSR\"].sum()\n",
    "    if np.sum(eg_query) > 0:\n",
    "        relative_gain = (eigengene_total/(wgcna_total+.0001))-1\n",
    "        row = pd.DataFrame(columns = svm_better.columns,\n",
    "                        data = [[relative_gain, fold, center_method, data_dimension, center_dimension, dataset_name]])\n",
    "        svm_better = svm_better.append(row, ignore_index = True)\n",
    "\n"
   ]
  },
  {
   "cell_type": "code",
   "execution_count": null,
   "metadata": {},
   "outputs": [],
   "source": [
    "svm_better"
   ]
  },
  {
   "cell_type": "code",
   "execution_count": null,
   "metadata": {},
   "outputs": [],
   "source": [
    "px.box(svm_results, x = 'Algorithm', y = 'Size', color = 'Algorithm', points= 'all', title = 'Module Sizes')"
   ]
  },
  {
   "cell_type": "code",
   "execution_count": null,
   "metadata": {},
   "outputs": [],
   "source": [
    "px.box(svm_results, x = 'Algorithm', y = 'BSR', color = 'Algorithm', points= 'all', title = 'Classification BSR')"
   ]
  },
  {
   "cell_type": "code",
   "execution_count": null,
   "metadata": {},
   "outputs": [],
   "source": [
    "px.box(go_results, x = 'Algorithm', y = 'GO Significance', color = 'Algorithm', points= 'all', title = 'GO Significance')"
   ]
  },
  {
   "cell_type": "code",
   "execution_count": null,
   "metadata": {},
   "outputs": [],
   "source": [
    "svm_better['Statistic'] = 'Classification BSR'\n",
    "go_better['Statistic'] = 'GO Significance'\n",
    "px.bar(pd.concat([svm_better, go_better]), y = 'Relative Gain', x = 'Statistic', \n",
    "       title = f'Relative gain for LBG modules over WGNCA modules <br>Module representative: {center_method} <br>Center dimension: {center_dimension}, Data dimension: {data_dimension}',\n",
    "       barmode = 'group')"
   ]
  }
 ],
 "metadata": {
  "kernelspec": {
   "display_name": "Python 3",
   "language": "python",
   "name": "python3"
  },
  "language_info": {
   "codemirror_mode": {
    "name": "ipython",
    "version": 3
   },
   "file_extension": ".py",
   "mimetype": "text/x-python",
   "name": "python",
   "nbconvert_exporter": "python",
   "pygments_lexer": "ipython3",
   "version": "3.8.15"
  },
  "orig_nbformat": 4,
  "vscode": {
   "interpreter": {
    "hash": "8f636d09504cb7747276c3a1bca803ac4a2c0fce49fd5bb11ad3cf1da7550c19"
   }
  }
 },
 "nbformat": 4,
 "nbformat_minor": 2
}
