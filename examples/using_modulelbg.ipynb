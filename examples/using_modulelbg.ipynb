{
 "cells": [
  {
   "cell_type": "code",
   "execution_count": null,
   "metadata": {},
   "outputs": [],
   "source": [
    "import numpy as np\n",
    "import pandas as pd\n",
    "from ModuleRefinement import utils, ModuleLBG, center_algorithms\n",
    "import plotly.express as px\n",
    "\n",
    "from sklearn.model_selection import StratifiedKFold\n",
    "\n",
    "from orthrus.core.dataset import DataSet as DS\n",
    "\n",
    "from IPython.utils import io"
   ]
  },
  {
   "cell_type": "code",
   "execution_count": null,
   "metadata": {},
   "outputs": [],
   "source": [
    "\n",
    "species = 'mouse'\n",
    "dataset_name = 'salmonella_Liver'\n",
    "fold = 1\n",
    "\n",
    "out_file = f'modules/5fold/fold{fold}_{dataset_name}.pickle'\n",
    "\n",
    "module_file = f'./{out_file}'\n",
    "refined_modules_dir = f'./refined_modules/'\n",
    "\n",
    "  \n",
    "center_methods = [['flag_mean',1,1]]\n",
    "\n",
    "center_method = center_methods[0][0]\n",
    "data_dimension = center_methods[0][1]\n",
    "center_dimension = center_methods[0][2]\n",
    "\n",
    "module_paths = [module_file,\n",
    "                './refined_modules/flag_mean_1_1/5fold/fold1_salmonella_Liver.pickle']\n",
    "algorithms = ['WGCNA', 'LBG']\n",
    "organism = 'mmusculus'"
   ]
  },
  {
   "cell_type": "code",
   "execution_count": null,
   "metadata": {},
   "outputs": [],
   "source": [
    "data_path = f'../data/{dataset_name}.csv'\n",
    "\n",
    "class_data, unique_labels, data_all, labels_all = utils.load_data(data_path)"
   ]
  },
  {
   "cell_type": "code",
   "execution_count": null,
   "metadata": {},
   "outputs": [],
   "source": [
    " #keep random state at 0 for reproducible results\n",
    "skf = StratifiedKFold(n_splits=5, shuffle=True, random_state=0)\n",
    "skf.get_n_splits(data_all, labels_all)\n",
    "fold_number = 0 \n",
    "for train_index, test_index in skf.split(data_all, labels_all):\n",
    "    if fold_number == fold:\n",
    "        split_data = data_all.iloc[train_index]\n",
    "        split_labels = labels_all.iloc[train_index]\n",
    "\n",
    "        with io.capture_output() as captured:\n",
    "            r_value = utils.wgcna_modules(split_data, species, out_file)\n",
    "\n",
    "        print(f'MODULES COMPUTED! R value = {r_value}')\n",
    "    fold_number +=1"
   ]
  },
  {
   "cell_type": "code",
   "execution_count": null,
   "metadata": {},
   "outputs": [],
   "source": [
    "    split_path = module_path.split('/')\n",
    "\n",
    "    the_modules, _ = load_modules(module_path)\n",
    "    \n",
    "    for center_method in center_methods:\n",
    "        center_method_str = f'{center_method[0]}_{center_method[1]}_{center_method[2]}'\n",
    "        save_path0 = f'{save_path_prefix}/{center_method_str}'\n",
    "        if not os.path.isdir(save_path0):\n",
    "            os.mkdir(save_path0)\n",
    "        \n",
    "        save_path1 = f'{save_path0}/{split_path[2]}'\n",
    "        if not os.path.isdir(save_path1):\n",
    "            os.mkdir(save_path1)\n",
    "\n",
    "        save_path =  f'{save_path1}/{split_path[3][:-7]}.pickle'\n",
    "\n",
    "        split_data = split_data.loc[:, (split_data != 0).any(axis=0)] #remove columns with all 0s\n",
    "\n",
    "        #make index here! this is who's in what module\n",
    "        feature_names = list(split_data.columns)\n",
    "        feature_labels = pd.DataFrame(columns = feature_names, data = np.zeros((1,len(feature_names))))\n",
    "        ii=0\n",
    "        for _, m in the_modules.iterrows():\n",
    "            feature_labels[m] = ii\n",
    "            ii+=1\n",
    "        index = feature_labels.iloc[0]\n",
    "\n",
    "        restricted_data = split_data[feature_names]\n",
    "\n",
    "        if center_method[2] > 1:\n",
    "            my_mlbg = ModuleLBG(center_method = center_method[0], center_dimension = center_method[1],\n",
    "                                 data_dimension = center_method[2], distance = 'max correlation', centrality = 'degree')\n",
    "        else:\n",
    "            my_mlbg = ModuleLBG(center_method = center_method[0], center_dimension = center_method[1],\n",
    "                                 data_dimension = center_method[2], distance = 'correlation', centrality = 'degree')\n",
    "\n",
    "        normalized_split_data = my_mlbg.process_data(np.array(restricted_data))\n",
    "\n",
    "        my_mlbg.calc_centers(normalized_split_data, index)\n",
    "\n",
    "\n",
    "        my_mlbg.fit_transform(normalized_split_data)\n",
    "\n",
    "        labels = my_mlbg.get_labels(normalized_split_data)"
   ]
  }
 ],
 "metadata": {
  "kernelspec": {
   "display_name": "Python 3",
   "language": "python",
   "name": "python3"
  },
  "language_info": {
   "name": "python",
   "version": "3.6.8 (default, Nov 16 2020, 16:55:22) \n[GCC 4.8.5 20150623 (Red Hat 4.8.5-44)]"
  },
  "orig_nbformat": 4,
  "vscode": {
   "interpreter": {
    "hash": "31f2aee4e71d21fbe5cf8b01ff0e069b9275f58929596ceb00d14d90e3e16cd6"
   }
  }
 },
 "nbformat": 4,
 "nbformat_minor": 2
}
