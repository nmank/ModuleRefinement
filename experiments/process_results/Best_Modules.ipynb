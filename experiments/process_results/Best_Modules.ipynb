{
 "cells": [
  {
   "cell_type": "code",
   "execution_count": 1,
   "metadata": {},
   "outputs": [],
   "source": [
    "import pandas as pd"
   ]
  },
  {
   "cell_type": "code",
   "execution_count": 2,
   "metadata": {},
   "outputs": [],
   "source": [
    "svm_results = pd.read_csv('./results/svm_score.csv', index_col = 0)\n",
    "go_results = pd.read_csv('./results/GO_score.csv', index_col = 7)"
   ]
  },
  {
   "cell_type": "code",
   "execution_count": 3,
   "metadata": {},
   "outputs": [],
   "source": [
    "# idx = (go_results['Fold'] == 'all') &\\\n",
    "#       (go_results['Algorithm'] == 'WGCNA') &\\\n",
    "#       (go_results['Data Set'] == 'gse73072_hrv_48_64')\n",
    "# temp_res = go_results[idx]\n",
    "# temp_res.iloc[2]\n"
   ]
  },
  {
   "cell_type": "code",
   "execution_count": 4,
   "metadata": {},
   "outputs": [
    {
     "name": "stdout",
     "output_type": "stream",
     "text": [
      "module number 2\n"
     ]
    },
    {
     "data": {
      "text/plain": [
       "(Unnamed: 0                            0\n",
       " Data Set             gse73072_hrv_48_64\n",
       " Algorithm                     WGCNA_LBG\n",
       " Central Prototype           flag_median\n",
       " Data Dimension                        1\n",
       " Center Dimension                      1\n",
       " Fold                                all\n",
       " GO Significance                 9307.08\n",
       " Name: 2, dtype: object, None)"
      ]
     },
     "execution_count": 4,
     "metadata": {},
     "output_type": "execute_result"
    }
   ],
   "source": [
    "idx = (go_results['Fold'] == 'all') &\\\n",
    "      (go_results['Algorithm'] == 'WGCNA_LBG') &\\\n",
    "      (go_results['Central Prototype'] == 'flag_median') &\\\n",
    "      (go_results['Data Dimension'] == 1) &\\\n",
    "      (go_results['Center Dimension'] == 1) &\\\n",
    "      (go_results['Data Set'] == 'gse73072_hrv_48_64')\n",
    "temp_res = go_results[idx]\n",
    "best_row = temp_res['GO Significance'].idxmax()\n",
    "temp_res.iloc[best_row], print('module number '+str(best_row))\n"
   ]
  },
  {
   "cell_type": "code",
   "execution_count": 5,
   "metadata": {},
   "outputs": [
    {
     "name": "stdout",
     "output_type": "stream",
     "text": [
      "module number 2\n"
     ]
    },
    {
     "data": {
      "text/plain": [
       "(Unnamed: 0                            0\n",
       " Data Set             gse73072_hrv_48_64\n",
       " Algorithm                     WGCNA_LBG\n",
       " Central Prototype             flag_mean\n",
       " Data Dimension                        1\n",
       " Center Dimension                      1\n",
       " Fold                                all\n",
       " GO Significance                 9208.21\n",
       " Name: 2, dtype: object, None)"
      ]
     },
     "execution_count": 5,
     "metadata": {},
     "output_type": "execute_result"
    }
   ],
   "source": [
    "idx = (go_results['Fold'] == 'all') &\\\n",
    "      (go_results['Algorithm'] == 'WGCNA_LBG') &\\\n",
    "      (go_results['Central Prototype'] == 'flag_mean') &\\\n",
    "      (go_results['Data Dimension'] == 1) &\\\n",
    "      (go_results['Center Dimension'] == 1) &\\\n",
    "      (go_results['Data Set'] == 'gse73072_hrv_48_64')\n",
    "temp_res = go_results[idx]\n",
    "best_row = temp_res['GO Significance'].idxmax()\n",
    "temp_res.iloc[best_row], print('module number '+str(best_row))"
   ]
  },
  {
   "cell_type": "code",
   "execution_count": 6,
   "metadata": {},
   "outputs": [
    {
     "name": "stdout",
     "output_type": "stream",
     "text": [
      "module number 2\n"
     ]
    },
    {
     "data": {
      "text/plain": [
       "(Unnamed: 0                                   0\n",
       " Data Set             salmonella_Liver_tolerant\n",
       " Algorithm                            WGCNA_LBG\n",
       " Central Prototype                  flag_median\n",
       " Data Dimension                               1\n",
       " Center Dimension                             1\n",
       " Fold                                       all\n",
       " GO Significance                        9605.73\n",
       " Name: 2, dtype: object, None)"
      ]
     },
     "execution_count": 6,
     "metadata": {},
     "output_type": "execute_result"
    }
   ],
   "source": [
    "idx = (go_results['Fold'] == 'all') &\\\n",
    "      (go_results['Algorithm'] == 'WGCNA_LBG') &\\\n",
    "      (go_results['Central Prototype'] == 'flag_median') &\\\n",
    "      (go_results['Data Dimension'] == 1) &\\\n",
    "      (go_results['Center Dimension'] == 1) &\\\n",
    "      (go_results['Data Set'] == 'salmonella_Liver_tolerant')\n",
    "temp_res = go_results[idx]\n",
    "best_row = temp_res['GO Significance'].idxmax()\n",
    "temp_res.iloc[best_row], print('module number '+str(best_row))"
   ]
  },
  {
   "cell_type": "code",
   "execution_count": 7,
   "metadata": {},
   "outputs": [
    {
     "name": "stdout",
     "output_type": "stream",
     "text": [
      "module number 2\n"
     ]
    },
    {
     "data": {
      "text/plain": [
       "(Unnamed: 0                                   0\n",
       " Data Set             salmonella_Liver_tolerant\n",
       " Algorithm                            WGCNA_LBG\n",
       " Central Prototype                    flag_mean\n",
       " Data Dimension                               1\n",
       " Center Dimension                             1\n",
       " Fold                                       all\n",
       " GO Significance                        8421.36\n",
       " Name: 2, dtype: object, None)"
      ]
     },
     "execution_count": 7,
     "metadata": {},
     "output_type": "execute_result"
    }
   ],
   "source": [
    "idx = (go_results['Fold'] == 'all') &\\\n",
    "      (go_results['Algorithm'] == 'WGCNA_LBG') &\\\n",
    "      (go_results['Central Prototype'] == 'flag_mean') &\\\n",
    "      (go_results['Data Dimension'] == 1) &\\\n",
    "      (go_results['Center Dimension'] == 1) &\\\n",
    "      (go_results['Data Set'] == 'salmonella_Liver_tolerant')\n",
    "temp_res = go_results[idx]\n",
    "best_row = temp_res['GO Significance'].idxmax()\n",
    "temp_res.iloc[best_row], print('module number '+str(best_row))"
   ]
  },
  {
   "cell_type": "code",
   "execution_count": null,
   "metadata": {},
   "outputs": [],
   "source": []
  }
 ],
 "metadata": {
  "kernelspec": {
   "display_name": "Python 3.6.8 64-bit",
   "language": "python",
   "name": "python3"
  },
  "language_info": {
   "codemirror_mode": {
    "name": "ipython",
    "version": 3
   },
   "file_extension": ".py",
   "mimetype": "text/x-python",
   "name": "python",
   "nbconvert_exporter": "python",
   "pygments_lexer": "ipython3",
   "version": "3.6.8"
  },
  "orig_nbformat": 4,
  "vscode": {
   "interpreter": {
    "hash": "31f2aee4e71d21fbe5cf8b01ff0e069b9275f58929596ceb00d14d90e3e16cd6"
   }
  }
 },
 "nbformat": 4,
 "nbformat_minor": 2
}
